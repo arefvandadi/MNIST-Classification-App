{
 "cells": [
  {
   "cell_type": "markdown",
   "metadata": {},
   "source": [
    "# MNIST Database - Classification\n",
    "# Using Convolution and Pooling Methods\n",
    "\n",
    "### MNIST is a popular dataset of 60,000 training and 10,000 testing images of 28*28 pixel each represeting a digit from 0 to 9\n",
    "\n",
    "#### The following code trains itself on the 60,000 training data and then predicts what digits are shown in the 10,000 testing images\n",
    "\n",
    "##### The following are the steps taken:\n",
    "- Define device to use GPU or CPU\n",
    "- Downlaod MNIST data\n",
    "- import data using DataLoader, Transformation\n",
    "- Define Multilayer Neural Net and Activation Function\n",
    "- Define Loss and Optimizer\n",
    "- Define Training Loop (batch training)\n",
    "- Evaluating model on testing data\n",
    "\n",
    "\n"
   ]
  },
  {
   "cell_type": "code",
   "execution_count": 1,
   "metadata": {},
   "outputs": [],
   "source": [
    "import torch\n",
    "import torch.nn as nn\n",
    "import torch.nn.functional as F\n",
    "import torchvision\n",
    "import torchvision.transforms as transforms\n",
    "import matplotlib.pyplot as plt"
   ]
  },
  {
   "cell_type": "code",
   "execution_count": null,
   "metadata": {},
   "outputs": [
    {
     "name": "stdout",
     "output_type": "stream",
     "text": [
      "Downloading http://yann.lecun.com/exdb/mnist/train-images-idx3-ubyte.gz\n",
      "Failed to download (trying next):\n",
      "HTTP Error 403: Forbidden\n",
      "\n",
      "Downloading https://ossci-datasets.s3.amazonaws.com/mnist/train-images-idx3-ubyte.gz\n",
      "Downloading https://ossci-datasets.s3.amazonaws.com/mnist/train-images-idx3-ubyte.gz to ./data\\MNIST\\raw\\train-images-idx3-ubyte.gz\n"
     ]
    },
    {
     "name": "stderr",
     "output_type": "stream",
     "text": [
      "100.0%\n"
     ]
    },
    {
     "name": "stdout",
     "output_type": "stream",
     "text": [
      "Extracting ./data\\MNIST\\raw\\train-images-idx3-ubyte.gz to ./data\\MNIST\\raw\n",
      "\n",
      "Downloading http://yann.lecun.com/exdb/mnist/train-labels-idx1-ubyte.gz\n",
      "Failed to download (trying next):\n",
      "HTTP Error 403: Forbidden\n",
      "\n",
      "Downloading https://ossci-datasets.s3.amazonaws.com/mnist/train-labels-idx1-ubyte.gz\n",
      "Downloading https://ossci-datasets.s3.amazonaws.com/mnist/train-labels-idx1-ubyte.gz to ./data\\MNIST\\raw\\train-labels-idx1-ubyte.gz\n"
     ]
    },
    {
     "name": "stderr",
     "output_type": "stream",
     "text": [
      "100.0%\n"
     ]
    },
    {
     "name": "stdout",
     "output_type": "stream",
     "text": [
      "Extracting ./data\\MNIST\\raw\\train-labels-idx1-ubyte.gz to ./data\\MNIST\\raw\n",
      "\n",
      "Downloading http://yann.lecun.com/exdb/mnist/t10k-images-idx3-ubyte.gz\n",
      "Failed to download (trying next):\n",
      "HTTP Error 403: Forbidden\n",
      "\n",
      "Downloading https://ossci-datasets.s3.amazonaws.com/mnist/t10k-images-idx3-ubyte.gz\n",
      "Downloading https://ossci-datasets.s3.amazonaws.com/mnist/t10k-images-idx3-ubyte.gz to ./data\\MNIST\\raw\\t10k-images-idx3-ubyte.gz\n"
     ]
    },
    {
     "name": "stderr",
     "output_type": "stream",
     "text": [
      "100.0%\n"
     ]
    },
    {
     "name": "stdout",
     "output_type": "stream",
     "text": [
      "Extracting ./data\\MNIST\\raw\\t10k-images-idx3-ubyte.gz to ./data\\MNIST\\raw\n",
      "\n",
      "Downloading http://yann.lecun.com/exdb/mnist/t10k-labels-idx1-ubyte.gz\n",
      "Failed to download (trying next):\n",
      "HTTP Error 403: Forbidden\n",
      "\n",
      "Downloading https://ossci-datasets.s3.amazonaws.com/mnist/t10k-labels-idx1-ubyte.gz\n",
      "Downloading https://ossci-datasets.s3.amazonaws.com/mnist/t10k-labels-idx1-ubyte.gz to ./data\\MNIST\\raw\\t10k-labels-idx1-ubyte.gz\n"
     ]
    },
    {
     "name": "stderr",
     "output_type": "stream",
     "text": [
      "100.0%"
     ]
    },
    {
     "name": "stdout",
     "output_type": "stream",
     "text": [
      "Extracting ./data\\MNIST\\raw\\t10k-labels-idx1-ubyte.gz to ./data\\MNIST\\raw\n",
      "\n"
     ]
    },
    {
     "name": "stderr",
     "output_type": "stream",
     "text": [
      "\n"
     ]
    },
    {
     "ename": "AttributeError",
     "evalue": "'_SingleProcessDataLoaderIter' object has no attribute 'next'",
     "output_type": "error",
     "traceback": [
      "\u001b[1;31m---------------------------------------------------------------------------\u001b[0m",
      "\u001b[1;31mAttributeError\u001b[0m                            Traceback (most recent call last)",
      "Cell \u001b[1;32mIn[3], line 25\u001b[0m\n\u001b[0;32m     22\u001b[0m \u001b[38;5;66;03m#Let's have a look at one batch of this data - keep in mind that dataloader provides an iterable over the given dataset\u001b[39;00m\n\u001b[0;32m     23\u001b[0m \u001b[38;5;66;03m# Therefore, let's convert it to iter object\u001b[39;00m\n\u001b[0;32m     24\u001b[0m examples \u001b[38;5;241m=\u001b[39m \u001b[38;5;28miter\u001b[39m(train_loader)\n\u001b[1;32m---> 25\u001b[0m samples, labels \u001b[38;5;241m=\u001b[39m \u001b[43mexamples\u001b[49m\u001b[38;5;241;43m.\u001b[39;49m\u001b[43mnext\u001b[49m()\n\u001b[0;32m     26\u001b[0m \u001b[38;5;28mprint\u001b[39m(samples\u001b[38;5;241m.\u001b[39mshape, \u001b[38;5;124m'\u001b[39m\u001b[38;5;124m##notice that sample has 4 dimensions. It is basically a 10x1 matrix of 28x28 pics\u001b[39m\u001b[38;5;124m'\u001b[39m)\n\u001b[0;32m     27\u001b[0m \u001b[38;5;28mprint\u001b[39m(labels\u001b[38;5;241m.\u001b[39mshape)\n",
      "\u001b[1;31mAttributeError\u001b[0m: '_SingleProcessDataLoaderIter' object has no attribute 'next'"
     ]
    }
   ],
   "source": [
    "#Device Config\n",
    "device = torch.device('cuda' if torch.cuda.is_available() else 'cpu')\n",
    "\n",
    "#hyper parameters\n",
    "input_size = 28*28  #because you will see down the line that our images have the size 28X28\n",
    "hidden_size = 100\n",
    "num_classes = 10 #becasue our model need to recognize digits from 0 to 9 adding up to 10 classes\n",
    "num_epochs = 2\n",
    "batch_size = 100\n",
    "learning_rate = 0.001\n",
    "\n",
    "#Let's import the famous MNIST data\n",
    "#torchvision.transforms.ToTensor --> Convert a PIL Image or numpy.ndarray to tensor\n",
    "train_dataset = torchvision.datasets.MNIST(root = './data',train = True, transform = transforms.ToTensor(), download = True)\n",
    "test_dataset = torchvision.datasets.MNIST(root = './data',train = False, transform = transforms.ToTensor())\n",
    "\n",
    "#You can run DataLoader with no batch_size attribute and then use len() function to see the number of samples. Then decide...\n",
    "#...on what batch size you want to use.\n",
    "train_loader = torch.utils.data.DataLoader(dataset = train_dataset, batch_size = batch_size, shuffle = True)\n",
    "test_loader = torch.utils.data.DataLoader(dataset = test_dataset, batch_size = batch_size, shuffle = False)\n",
    "\n",
    "#Let's have a look at one batch of this data - keep in mind that dataloader provides an iterable over the given dataset\n",
    "# Therefore, let's convert it to iter object\n",
    "# examples = iter(train_loader)\n",
    "# samples, labels = examples.next()\n",
    "# print(samples.shape, '##notice that sample has 4 dimensions. It is basically a 10x1 matrix of 28x28 pics')\n",
    "# print(labels.shape)\n",
    "# print('length of train_loader = ', len(train_loader))\n",
    "# print('\\n','**MNIST train dataset number = length of train_loader X batch size = 600 X 100 = 60,000')\n",
    "\n",
    "# #Let's show the image\n",
    "# for i in range(6):\n",
    "#     plt.subplot(2,3,i+1)\n",
    "#     plt.imshow(samples[i][0],cmap = 'gray')\n",
    "\n",
    "# plt.show"
   ]
  },
  {
   "cell_type": "code",
   "execution_count": 5,
   "metadata": {},
   "outputs": [
    {
     "name": "stdout",
     "output_type": "stream",
     "text": [
      "Sample 0:\n",
      "torch.Size([100, 1, 28, 28])\n",
      "torch.Size([100])\n",
      "tensor([[0.0000, 0.0000, 0.0000, 0.0000, 0.0000, 0.0000, 0.0000, 0.0000, 0.0000,\n",
      "         0.0000, 0.0000, 0.0000, 0.0000, 0.0000, 0.0000, 0.0000, 0.0000, 0.0000,\n",
      "         0.0000, 0.0000, 0.0000, 0.0000, 0.0000, 0.0000, 0.0000, 0.0000, 0.0000,\n",
      "         0.0000],\n",
      "        [0.0000, 0.0000, 0.0000, 0.0000, 0.0000, 0.0000, 0.0000, 0.0000, 0.0000,\n",
      "         0.0000, 0.0000, 0.0000, 0.0000, 0.0000, 0.0000, 0.0000, 0.0000, 0.0000,\n",
      "         0.0000, 0.0000, 0.0000, 0.0000, 0.0000, 0.0000, 0.0000, 0.0000, 0.0000,\n",
      "         0.0000],\n",
      "        [0.0000, 0.0000, 0.0000, 0.0000, 0.0000, 0.0000, 0.0000, 0.0000, 0.0000,\n",
      "         0.0000, 0.0000, 0.0000, 0.0000, 0.0000, 0.0000, 0.0000, 0.0000, 0.0000,\n",
      "         0.0000, 0.0000, 0.0000, 0.0000, 0.0000, 0.0000, 0.0000, 0.0000, 0.0000,\n",
      "         0.0000],\n",
      "        [0.0000, 0.0000, 0.0000, 0.0000, 0.0000, 0.0000, 0.0000, 0.0000, 0.0000,\n",
      "         0.0000, 0.0000, 0.0000, 0.0000, 0.0000, 0.0000, 0.0000, 0.0000, 0.0000,\n",
      "         0.0000, 0.0000, 0.0000, 0.0000, 0.0000, 0.0000, 0.0000, 0.0000, 0.0000,\n",
      "         0.0000],\n",
      "        [0.0000, 0.0000, 0.0000, 0.0000, 0.0000, 0.0000, 0.0000, 0.0000, 0.0000,\n",
      "         0.0000, 0.0000, 0.0000, 0.0000, 0.0000, 0.0000, 0.0000, 0.0000, 0.0000,\n",
      "         0.0000, 0.0000, 0.0000, 0.0000, 0.0000, 0.0000, 0.0000, 0.0000, 0.0000,\n",
      "         0.0000],\n",
      "        [0.0000, 0.0000, 0.0000, 0.0000, 0.0000, 0.0000, 0.0000, 0.0000, 0.0000,\n",
      "         0.0000, 0.0000, 0.0000, 0.0000, 0.0000, 0.2510, 0.7255, 0.9961, 0.8039,\n",
      "         0.3255, 0.0000, 0.0000, 0.0000, 0.0000, 0.0000, 0.0000, 0.0000, 0.0000,\n",
      "         0.0000],\n",
      "        [0.0000, 0.0000, 0.0000, 0.0000, 0.0000, 0.0000, 0.0000, 0.0000, 0.0000,\n",
      "         0.0000, 0.0000, 0.0000, 0.1020, 0.9451, 0.9686, 0.9961, 0.9922, 0.9922,\n",
      "         0.9765, 0.1961, 0.0000, 0.0000, 0.0000, 0.0000, 0.0000, 0.0000, 0.0000,\n",
      "         0.0000],\n",
      "        [0.0000, 0.0000, 0.0000, 0.0000, 0.0000, 0.0000, 0.0000, 0.0000, 0.0000,\n",
      "         0.0000, 0.0000, 0.0588, 0.7098, 0.9922, 0.9922, 0.8235, 0.6235, 0.7608,\n",
      "         0.9922, 0.7725, 0.0980, 0.0000, 0.0000, 0.0000, 0.0000, 0.0000, 0.0000,\n",
      "         0.0000],\n",
      "        [0.0000, 0.0000, 0.0000, 0.0000, 0.0000, 0.0000, 0.0000, 0.0000, 0.0000,\n",
      "         0.0000, 0.2353, 0.4275, 0.9922, 0.9922, 0.5490, 0.0824, 0.0000, 0.2549,\n",
      "         0.9451, 0.9922, 0.7020, 0.0000, 0.0000, 0.0000, 0.0000, 0.0000, 0.0000,\n",
      "         0.0000],\n",
      "        [0.0000, 0.0000, 0.0000, 0.0000, 0.0000, 0.0000, 0.0000, 0.0000, 0.0000,\n",
      "         0.2118, 0.9412, 0.9922, 0.9922, 0.9922, 0.4706, 0.0000, 0.0000, 0.0000,\n",
      "         0.4275, 0.9922, 0.7804, 0.0000, 0.0000, 0.0000, 0.0000, 0.0000, 0.0000,\n",
      "         0.0000],\n",
      "        [0.0000, 0.0000, 0.0000, 0.0000, 0.0000, 0.0000, 0.0000, 0.0000, 0.0000,\n",
      "         0.6510, 0.9922, 0.9922, 0.9686, 0.7529, 0.1216, 0.0000, 0.0000, 0.0000,\n",
      "         0.0824, 0.8392, 0.7804, 0.0000, 0.0000, 0.0000, 0.0000, 0.0000, 0.0000,\n",
      "         0.0000],\n",
      "        [0.0000, 0.0000, 0.0000, 0.0000, 0.0000, 0.0000, 0.0000, 0.0000, 0.0000,\n",
      "         0.7882, 0.9922, 0.8000, 0.2784, 0.0000, 0.0000, 0.0000, 0.0000, 0.0000,\n",
      "         0.0000, 0.7882, 0.9255, 0.2157, 0.0000, 0.0000, 0.0000, 0.0000, 0.0000,\n",
      "         0.0000],\n",
      "        [0.0000, 0.0000, 0.0000, 0.0000, 0.0000, 0.0000, 0.0000, 0.0000, 0.1686,\n",
      "         0.8980, 0.9922, 0.3137, 0.0000, 0.0000, 0.0000, 0.0000, 0.0000, 0.0000,\n",
      "         0.0000, 0.7882, 0.9922, 0.3137, 0.0000, 0.0000, 0.0000, 0.0000, 0.0000,\n",
      "         0.0000],\n",
      "        [0.0000, 0.0000, 0.0000, 0.0000, 0.0000, 0.0000, 0.0000, 0.0000, 0.0000,\n",
      "         0.7882, 0.9922, 0.3137, 0.0000, 0.0000, 0.0000, 0.0000, 0.0000, 0.0000,\n",
      "         0.0000, 0.7882, 0.9922, 0.3137, 0.0000, 0.0000, 0.0000, 0.0000, 0.0000,\n",
      "         0.0000],\n",
      "        [0.0000, 0.0000, 0.0000, 0.0000, 0.0000, 0.0000, 0.0000, 0.0000, 0.0000,\n",
      "         0.7882, 0.9922, 0.3137, 0.0000, 0.0000, 0.0000, 0.0000, 0.0000, 0.0000,\n",
      "         0.0000, 0.7882, 0.8824, 0.1490, 0.0000, 0.0000, 0.0000, 0.0000, 0.0000,\n",
      "         0.0000],\n",
      "        [0.0000, 0.0000, 0.0000, 0.0000, 0.0000, 0.0000, 0.0000, 0.0000, 0.0000,\n",
      "         0.7922, 0.9961, 0.3137, 0.0000, 0.0000, 0.0000, 0.0000, 0.0000, 0.0000,\n",
      "         0.1529, 0.8902, 0.7882, 0.0000, 0.0000, 0.0000, 0.0000, 0.0000, 0.0000,\n",
      "         0.0000],\n",
      "        [0.0000, 0.0000, 0.0000, 0.0000, 0.0000, 0.0000, 0.0000, 0.0000, 0.0000,\n",
      "         0.7882, 0.9922, 0.3137, 0.0000, 0.0000, 0.0000, 0.0000, 0.0000, 0.0000,\n",
      "         0.5373, 0.9922, 0.7804, 0.0000, 0.0000, 0.0000, 0.0000, 0.0000, 0.0000,\n",
      "         0.0000],\n",
      "        [0.0000, 0.0000, 0.0000, 0.0000, 0.0000, 0.0000, 0.0000, 0.0000, 0.0000,\n",
      "         0.7882, 0.9922, 0.3137, 0.0000, 0.0000, 0.0000, 0.0000, 0.0000, 0.3333,\n",
      "         0.9765, 0.9922, 0.5882, 0.0000, 0.0000, 0.0000, 0.0000, 0.0000, 0.0000,\n",
      "         0.0000],\n",
      "        [0.0000, 0.0000, 0.0000, 0.0000, 0.0000, 0.0000, 0.0000, 0.0000, 0.0000,\n",
      "         0.7882, 0.9922, 0.4784, 0.0000, 0.0000, 0.0000, 0.0000, 0.0000, 0.8118,\n",
      "         0.9922, 0.9922, 0.2588, 0.0000, 0.0000, 0.0000, 0.0000, 0.0000, 0.0000,\n",
      "         0.0000],\n",
      "        [0.0000, 0.0000, 0.0000, 0.0000, 0.0000, 0.0000, 0.0000, 0.0000, 0.0000,\n",
      "         0.7882, 0.9922, 0.9608, 0.2902, 0.0000, 0.0000, 0.0000, 0.4745, 0.9725,\n",
      "         0.9922, 0.6431, 0.0549, 0.0000, 0.0000, 0.0000, 0.0000, 0.0000, 0.0000,\n",
      "         0.0000],\n",
      "        [0.0000, 0.0000, 0.0000, 0.0000, 0.0000, 0.0000, 0.0000, 0.0000, 0.0000,\n",
      "         0.4000, 0.9922, 0.9922, 0.4784, 0.0000, 0.0000, 0.1020, 0.9569, 0.9922,\n",
      "         0.9255, 0.1647, 0.0000, 0.0000, 0.0000, 0.0000, 0.0000, 0.0000, 0.0000,\n",
      "         0.0000],\n",
      "        [0.0000, 0.0000, 0.0000, 0.0000, 0.0000, 0.0000, 0.0000, 0.0000, 0.0000,\n",
      "         0.2235, 0.9529, 0.9922, 0.9059, 0.1608, 0.4392, 0.8353, 0.9922, 0.9333,\n",
      "         0.2941, 0.0000, 0.0000, 0.0000, 0.0000, 0.0000, 0.0000, 0.0000, 0.0000,\n",
      "         0.0000],\n",
      "        [0.0000, 0.0000, 0.0000, 0.0000, 0.0000, 0.0000, 0.0000, 0.0000, 0.0000,\n",
      "         0.0000, 0.6784, 0.9922, 0.9922, 0.9922, 0.9922, 1.0000, 0.9922, 0.5686,\n",
      "         0.0000, 0.0000, 0.0000, 0.0000, 0.0000, 0.0000, 0.0000, 0.0000, 0.0000,\n",
      "         0.0000],\n",
      "        [0.0000, 0.0000, 0.0000, 0.0000, 0.0000, 0.0000, 0.0000, 0.0000, 0.0000,\n",
      "         0.0000, 0.0902, 0.7843, 0.9922, 0.9922, 0.9922, 1.0000, 0.4471, 0.0431,\n",
      "         0.0000, 0.0000, 0.0000, 0.0000, 0.0000, 0.0000, 0.0000, 0.0000, 0.0000,\n",
      "         0.0000],\n",
      "        [0.0000, 0.0000, 0.0000, 0.0000, 0.0000, 0.0000, 0.0000, 0.0000, 0.0000,\n",
      "         0.0000, 0.0000, 0.0745, 0.5216, 0.9922, 0.7137, 0.4745, 0.0235, 0.0000,\n",
      "         0.0000, 0.0000, 0.0000, 0.0000, 0.0000, 0.0000, 0.0000, 0.0000, 0.0000,\n",
      "         0.0000],\n",
      "        [0.0000, 0.0000, 0.0000, 0.0000, 0.0000, 0.0000, 0.0000, 0.0000, 0.0000,\n",
      "         0.0000, 0.0000, 0.0000, 0.0000, 0.0000, 0.0000, 0.0000, 0.0000, 0.0000,\n",
      "         0.0000, 0.0000, 0.0000, 0.0000, 0.0000, 0.0000, 0.0000, 0.0000, 0.0000,\n",
      "         0.0000],\n",
      "        [0.0000, 0.0000, 0.0000, 0.0000, 0.0000, 0.0000, 0.0000, 0.0000, 0.0000,\n",
      "         0.0000, 0.0000, 0.0000, 0.0000, 0.0000, 0.0000, 0.0000, 0.0000, 0.0000,\n",
      "         0.0000, 0.0000, 0.0000, 0.0000, 0.0000, 0.0000, 0.0000, 0.0000, 0.0000,\n",
      "         0.0000],\n",
      "        [0.0000, 0.0000, 0.0000, 0.0000, 0.0000, 0.0000, 0.0000, 0.0000, 0.0000,\n",
      "         0.0000, 0.0000, 0.0000, 0.0000, 0.0000, 0.0000, 0.0000, 0.0000, 0.0000,\n",
      "         0.0000, 0.0000, 0.0000, 0.0000, 0.0000, 0.0000, 0.0000, 0.0000, 0.0000,\n",
      "         0.0000]])\n"
     ]
    },
    {
     "data": {
      "image/png": "[encoded data removed]",
      "text/plain": [
       "<Figure size 640x480 with 6 Axes>"
      ]
     },
     "metadata": {},
     "output_type": "display_data"
    }
   ],
   "source": [
    "for i, (samples, labels) in enumerate(train_loader):\n",
    "    print(f\"Sample {i}:\")\n",
    "    print(samples.shape)\n",
    "    print(labels.shape)\n",
    "    # label_pred = model(samples)\n",
    "    # print(label_pred.shape)|\n",
    "    for j in range(6):\n",
    "        plt.subplot(2,3,j+1)\n",
    "        plt.imshow(samples[j][0],cmap = 'gray')\n",
    "    print(samples[0][0])\n",
    "    break"
   ]
  },
  {
   "cell_type": "code",
   "execution_count": 6,
   "metadata": {},
   "outputs": [
    {
     "name": "stdout",
     "output_type": "stream",
     "text": [
      "Sample 0:\n",
      "torch.Size([100, 1, 28, 28])\n",
      "torch.float32\n",
      "torch.Size([100])\n",
      "torch.Size([100, 10])\n"
     ]
    },
    {
     "name": "stderr",
     "output_type": "stream",
     "text": [
      "C:\\Users\\arefv\\AppData\\Local\\Temp\\ipykernel_60772\\929148564.py:19: UserWarning: Implicit dimension choice for log_softmax has been deprecated. Change the call to include dim=X as an argument.\n",
      "  return F.log_softmax(x)\n"
     ]
    }
   ],
   "source": [
    "#Creating Forward Model\n",
    "class NeuralNet(nn.Module):\n",
    "    def __init__(self):\n",
    "        super(NeuralNet, self).__init__()\n",
    "        self.conv1 = nn.Conv2d(1, 10, kernel_size = 5)\n",
    "        self.conv2 = nn.Conv2d(10, 20, kernel_size = 5)\n",
    "        self.map = nn.MaxPool2d(2)\n",
    "        \n",
    "        self.fc = nn.Linear(320,10)\n",
    "    \n",
    "    def forward(self,x):\n",
    "        in_size = x.size(0)\n",
    "        x = F.relu(self.map(self.conv1(x)))\n",
    "        x = F.relu(self.map(self.conv2(x)))\n",
    "        x = x.view(in_size,-1) #flatten the tensor\n",
    "        \n",
    "        x = self.fc(x)\n",
    "        \n",
    "        return F.log_softmax(x)\n",
    "\n",
    "model = NeuralNet()\n",
    "\n",
    "for i, (samples, labels) in enumerate(train_loader):\n",
    "    print(f\"Sample {i}:\")\n",
    "    print(samples.shape)\n",
    "    print(samples.dtype)\n",
    "    print(labels.shape)\n",
    "    label_pred = model(samples)\n",
    "    print(label_pred.shape)\n",
    "    break"
   ]
  },
  {
   "cell_type": "markdown",
   "metadata": {},
   "source": [
    "## Second Approach: torch.utils.data.TensorDataset"
   ]
  },
  {
   "cell_type": "code",
   "execution_count": null,
   "metadata": {},
   "outputs": [],
   "source": [
    "train_data_path = \"./train_data_test.pt\"\n",
    "# test_data_path = \"./test_data.pt\"\n",
    "torch.save({\"data\": train_dataset.data, \"targets\": train_dataset.targets}, train_data_path)\n",
    "# torch.save({\"data\": test_dataset.data, \"targets\": test_dataset.targets}, test_data_path)\n"
   ]
  },
  {
   "cell_type": "code",
   "execution_count": null,
   "metadata": {},
   "outputs": [
    {
     "name": "stderr",
     "output_type": "stream",
     "text": [
      "C:\\Users\\arefv\\AppData\\Local\\Temp\\ipykernel_56584\\929521103.py:1: FutureWarning: You are using `torch.load` with `weights_only=False` (the current default value), which uses the default pickle module implicitly. It is possible to construct malicious pickle data which will execute arbitrary code during unpickling (See https://github.com/pytorch/pytorch/blob/main/SECURITY.md#untrusted-models for more details). In a future release, the default value for `weights_only` will be flipped to `True`. This limits the functions that could be executed during unpickling. Arbitrary objects will no longer be allowed to be loaded via this mode unless they are explicitly allowlisted by the user via `torch.serialization.add_safe_globals`. We recommend you start setting `weights_only=True` for any use case where you don't have full control of the loaded file. Please open an issue on GitHub for any issues related to this experimental feature.\n",
      "  train_data = torch.load(\"./train_data_test.pt\")\n"
     ]
    }
   ],
   "source": [
    "# train_data = torch.load(\"./train_data_test.pt\")\n",
    "# train_dataset_recreate = torch.utils.data.TensorDataset(train_data[\"data\"], train_data[\"targets\"])\n",
    "# train_loader_alternative = torch.utils.data.DataLoader(dataset=train_dataset_recreate, batch_size=100, shuffle=True)"
   ]
  },
  {
   "cell_type": "code",
   "execution_count": null,
   "metadata": {},
   "outputs": [
    {
     "data": {
      "text/plain": [
       "600"
      ]
     },
     "execution_count": 25,
     "metadata": {},
     "output_type": "execute_result"
    }
   ],
   "source": [
    "# len(train_loader_alternative)"
   ]
  },
  {
   "cell_type": "code",
   "execution_count": null,
   "metadata": {},
   "outputs": [],
   "source": [
    "# #Creating Forward Model\n",
    "# class NeuralNet_Alternative(nn.Module):\n",
    "#     def __init__(self):\n",
    "#         super(NeuralNet_Alternative, self).__init__()\n",
    "#         self.conv1 = nn.Conv2d(1, 10, kernel_size = 5)\n",
    "#         self.conv2 = nn.Conv2d(10, 20, kernel_size = 5)\n",
    "#         self.map = nn.MaxPool2d(2)\n",
    "        \n",
    "#         self.fc = nn.Linear(320,10)\n",
    "    \n",
    "#     def forward(self,x):\n",
    "#         in_size = x.size(0)\n",
    "#         x = F.relu(self.map(self.conv1(x)))\n",
    "#         x = F.relu(self.map(self.conv2(x)))\n",
    "#         x = x.view(in_size,-1) #flatten the tensor\n",
    "        \n",
    "#         x = self.fc(x)\n",
    "        \n",
    "#         return F.log_softmax(x)\n",
    "\n",
    "# model_Alternative = NeuralNet_Alternative()"
   ]
  },
  {
   "cell_type": "code",
   "execution_count": 14,
   "metadata": {},
   "outputs": [],
   "source": [
    "# for i, (samples, labels) in enumerate(train_loader_alternative):\n",
    "#     print(f\"Sample {i}:\")\n",
    "#     print(samples.shape)\n",
    "#     print(samples.dtype)\n",
    "#     samples = samples.float()\n",
    "#     print(samples.dtype)\n",
    "#     samples = torch.unsqueeze(samples, 1) # Since the Input should be in the form of N (Batch Size) X C (Channel=1 for Black and White Images) X H (Image Height) X W (Image Width)\n",
    "#     print(samples.shape)\n",
    "#     print(labels.shape)\n",
    "#     label_pred = model_Alternative(samples)\n",
    "#     print(label_pred.shape)\n",
    "#     break"
   ]
  },
  {
   "cell_type": "code",
   "execution_count": null,
   "metadata": {},
   "outputs": [],
   "source": []
  },
  {
   "cell_type": "markdown",
   "metadata": {},
   "source": [
    "#### Let's set up a fully connectd neural network with One hidden layer"
   ]
  },
  {
   "cell_type": "code",
   "execution_count": 16,
   "metadata": {},
   "outputs": [
    {
     "name": "stderr",
     "output_type": "stream",
     "text": [
      "C:\\Users\\arefv\\AppData\\Local\\Temp\\ipykernel_60772\\3142893290.py:19: UserWarning: Implicit dimension choice for log_softmax has been deprecated. Change the call to include dim=X as an argument.\n",
      "  return F.log_softmax(x)\n"
     ]
    },
    {
     "name": "stdout",
     "output_type": "stream",
     "text": [
      "epoch = 1 / 2 , Batch number = 100 / 600  :  Loss = 0.4658\n",
      "epoch = 1 / 2 , Batch number = 200 / 600  :  Loss = 0.3431\n",
      "epoch = 1 / 2 , Batch number = 300 / 600  :  Loss = 0.2586\n",
      "epoch = 1 / 2 , Batch number = 400 / 600  :  Loss = 0.2128\n",
      "epoch = 1 / 2 , Batch number = 500 / 600  :  Loss = 0.1251\n",
      "epoch = 1 / 2 , Batch number = 600 / 600  :  Loss = 0.2180\n",
      "epoch = 2 / 2 , Batch number = 100 / 600  :  Loss = 0.1629\n",
      "epoch = 2 / 2 , Batch number = 200 / 600  :  Loss = 0.0621\n",
      "epoch = 2 / 2 , Batch number = 300 / 600  :  Loss = 0.0383\n",
      "epoch = 2 / 2 , Batch number = 400 / 600  :  Loss = 0.0981\n",
      "epoch = 2 / 2 , Batch number = 500 / 600  :  Loss = 0.0754\n",
      "epoch = 2 / 2 , Batch number = 600 / 600  :  Loss = 0.0906\n"
     ]
    }
   ],
   "source": [
    "#Creating Forward Model\n",
    "class NeuralNet(nn.Module):\n",
    "    def __init__(self):\n",
    "        super(NeuralNet, self).__init__()\n",
    "        self.conv1 = nn.Conv2d(1, 10, kernel_size = 5)\n",
    "        self.conv2 = nn.Conv2d(10, 20, kernel_size = 5)\n",
    "        self.map = nn.MaxPool2d(2)\n",
    "        \n",
    "        self.fc = nn.Linear(320,10)\n",
    "    \n",
    "    def forward(self,x):\n",
    "        in_size = x.size(0)\n",
    "        x = F.relu(self.map(self.conv1(x)))\n",
    "        x = F.relu(self.map(self.conv2(x)))\n",
    "        x = x.view(in_size,-1) #flatten the tensor\n",
    "        \n",
    "        x = self.fc(x)\n",
    "        \n",
    "        return F.log_softmax(x)\n",
    "\n",
    "model = NeuralNet()\n",
    "\n",
    "#Loss Definition. We are going to use Cross Entropy Loss which will include Softmax activation function to output possibilities\n",
    "criterion = nn.CrossEntropyLoss()\n",
    "optimizer = torch.optim.Adam(model.parameters(), lr= learning_rate)\n",
    "\n",
    "batch_num = len(train_loader)\n",
    "\n",
    "for epoch in range(num_epochs):\n",
    "    for i, (samples, labels) in enumerate(train_loader):\n",
    "        \n",
    "        #Let's reshape samples from 4 dimension to 2 dim, each row having 28*28 elements for each image\n",
    "        #samples = samples.reshape(-1,28*28).to(device)\n",
    "        \n",
    "        #Forward pass\n",
    "        label_pred = model(samples)\n",
    "        # print(label_pred.shape)\n",
    "        # break\n",
    "        #Loss\n",
    "        Loss = criterion(label_pred, labels)\n",
    "        \n",
    "        #Zero grads\n",
    "        optimizer.zero_grad()\n",
    "        \n",
    "        #backward\n",
    "        Loss.backward()\n",
    "        \n",
    "        #updating parameters\n",
    "        optimizer.step()\n",
    "        \n",
    "        if (i+1) % 100 == 0:\n",
    "            print(\"epoch = {} / {} , Batch number = {} / {}  :  Loss = {Lossvalue:.4f}\".format(epoch+1,num_epochs,i+1,batch_num,Lossvalue = Loss.item()))\n",
    "\n"
   ]
  },
  {
   "cell_type": "markdown",
   "metadata": {},
   "source": [
    "## Evaluation on the Test Data"
   ]
  },
  {
   "cell_type": "code",
   "execution_count": null,
   "metadata": {},
   "outputs": [
    {
     "name": "stderr",
     "output_type": "stream",
     "text": [
      "C:\\Users\\arefv\\AppData\\Local\\Temp\\ipykernel_60772\\3142893290.py:19: UserWarning: Implicit dimension choice for log_softmax has been deprecated. Change the call to include dim=X as an argument.\n",
      "  return F.log_softmax(x)\n"
     ]
    },
    {
     "name": "stdout",
     "output_type": "stream",
     "text": [
      "\n",
      "\n",
      "Number of Tested Samples      =  10000\n",
      "Number of Correct Predictions =  9821\n",
      "Accuracy = 98.21%\n"
     ]
    }
   ],
   "source": [
    "#testing on test samples\n",
    "#DON'T FORGET TO DETACH() THIS CALCULATION TO AVOID GRADIENT CALCULATION\n",
    "with torch.no_grad():\n",
    "    n_correct = 0\n",
    "    n_samples = 0\n",
    "    for i, (samples, labels) in enumerate(test_loader):\n",
    "        \n",
    "        #Let's reshape test samples from 4 dimension to 2 dim, each row having 28*28 elements for each image\n",
    "        #samples = samples.reshape(-1,28*28).to(device)\n",
    "        labels = labels.to(device)\n",
    "        \n",
    "        #test samples predicted results using the train Model\n",
    "        test_label_pred = model(samples)\n",
    "        \n",
    "        #Notice that we are not using softmax here to get the probabilities. The biggest value has the more probability... \n",
    "        #...and is the predicted class\n",
    "        #Also torch.max() returns the max value and the index for max value. We only need the index whih represents the class\n",
    "        _, class_pred = torch.max(test_label_pred,1)  # number 1 in torch.max method means max along the rows. 0 means columns\n",
    "        n_samples += labels.shape[0]\n",
    "        n_correct += (class_pred == labels).sum().item()\n",
    "    \n",
    "    print('\\n')\n",
    "    print('Number of Tested Samc:\\Users\\arefv\\AppData\\Local\\Temp\\ipykernel_60772\\3142893290.py:19ples      = ',n_samples)\n",
    "    print('Number of Correct Predictions = ',n_correct)\n",
    "    acc = 100 * n_correct/n_samples\n",
    "    print(\"Accuracy = {Accuracy:.2f}%\".format(Accuracy = acc))\n"
   ]
  },
  {
   "cell_type": "markdown",
   "metadata": {},
   "source": [
    "## Checking the Output of the trained model for a single entry input "
   ]
  },
  {
   "cell_type": "code",
   "execution_count": 18,
   "metadata": {},
   "outputs": [
    {
     "name": "stdout",
     "output_type": "stream",
     "text": [
      "7\n"
     ]
    },
    {
     "name": "stderr",
     "output_type": "stream",
     "text": [
      "C:\\Users\\arefv\\AppData\\Local\\Temp\\ipykernel_60772\\3142893290.py:19: UserWarning: Implicit dimension choice for log_softmax has been deprecated. Change the call to include dim=X as an argument.\n",
      "  return F.log_softmax(x)\n"
     ]
    }
   ],
   "source": [
    "#testing on test samples\n",
    "#DON'T FORGET TO DETACH() THIS CALCULATION TO AVOID GRADIENT CALCULATION\n",
    "with torch.no_grad():\n",
    "    n_correct = 0\n",
    "    n_samples = 0\n",
    "    for i, (samples, labels) in enumerate(test_loader):\n",
    "        \n",
    "        #Let's reshape test samples from 4 dimension to 2 dim, each row having 28*28 elements for each image\n",
    "        #samples = samples.reshape(-1,28*28).to(device)\n",
    "        labels = labels.to(device)\n",
    "        \n",
    "        #test samples predicted results using the train Model\n",
    "        test_label_pred = model(samples[0:1])\n",
    "        \n",
    "        #Notice that we are not using softmax here to get the probabilities. The biggest value has the more probability... \n",
    "        #...and is the predicted class\n",
    "        #Also torch.max() returns the max value and the index for max value. We only need the index whih represents the class\n",
    "        _, class_pred = torch.max(test_label_pred,1)  # number 1 in torch.max method means max along the rows. 0 means columns\n",
    "        print(class_pred.item())\n",
    "        # n_samples += labels.shape[0]\n",
    "        # n_correct += (class_pred == labels).sum().item()\n",
    "        break\n",
    "    \n",
    "    # print('\\n')\n",
    "    # print('Number of Tested Samples      = ',n_samples)\n",
    "    # print('Number of Correct Predictions = ',n_correct)\n",
    "    # acc = 100 * n_correct/n_samples\n",
    "    # print(\"Accuracy = {Accuracy:.2f}%\".format(Accuracy = acc))"
   ]
  },
  {
   "cell_type": "markdown",
   "metadata": {},
   "source": [
    "### Saving the Trained Model, Loading it back and Running Inference on it"
   ]
  },
  {
   "cell_type": "code",
   "execution_count": 26,
   "metadata": {},
   "outputs": [],
   "source": [
    "torch.save(model,\"./CNN_Model.pt\")\n",
    "torch.save(model.state_dict(),\"./CNN_Model_state_dict.pt\")"
   ]
  },
  {
   "cell_type": "code",
   "execution_count": 20,
   "metadata": {},
   "outputs": [],
   "source": [
    "saved_model = torch.load(\"./CNN_Model.pt\", weights_only=False)"
   ]
  },
  {
   "cell_type": "code",
   "execution_count": 27,
   "metadata": {},
   "outputs": [
    {
     "name": "stdout",
     "output_type": "stream",
     "text": [
      "Sample size = torch.Size([1, 1, 28, 28])\n",
      "torch.float32\n",
      "7\n",
      "Sample size = torch.Size([1, 1, 28, 28])\n",
      "torch.float32\n",
      "6\n",
      "Sample size = torch.Size([1, 1, 28, 28])\n",
      "torch.float32\n",
      "3\n"
     ]
    },
    {
     "name": "stderr",
     "output_type": "stream",
     "text": [
      "C:\\Users\\arefv\\AppData\\Local\\Temp\\ipykernel_60772\\3142893290.py:19: UserWarning: Implicit dimension choice for log_softmax has been deprecated. Change the call to include dim=X as an argument.\n",
      "  return F.log_softmax(x)\n"
     ]
    }
   ],
   "source": [
    "with torch.no_grad():\n",
    "    n_correct = 0\n",
    "    n_samples = 0\n",
    "    for i, (samples, labels) in enumerate(test_loader):\n",
    "        \n",
    "        #Let's reshape test samples from 4 dimension to 2 dim, each row having 28*28 elements for each image\n",
    "        #samples = samples.reshape(-1,28*28).to(device)\n",
    "        labels = labels.to(device)\n",
    "        \n",
    "        #test samples predicted results using the train Model\n",
    "        test_label_pred = saved_model(samples[0:1])\n",
    "        print(\"Sample size =\", samples[0:1].shape)\n",
    "        print(samples[0:1].dtype)\n",
    "        \n",
    "        #Notice that we are not using softmax here to get the probabilities. The biggest value has the more probability... \n",
    "        #...and is the predicted class\n",
    "        #Also torch.max() returns the max value and the index for max value. We only need the index whih represents the class\n",
    "        _, class_pred = torch.max(test_label_pred,1)  # number 1 in torch.max method means max along the rows. 0 means columns\n",
    "        print(class_pred.item())\n",
    "        # n_samples += labels.shape[0]\n",
    "        # n_correct += (class_pred == labels).sum().item()\n",
    "        if i==2:\n",
    "            break"
   ]
  },
  {
   "cell_type": "code",
   "execution_count": null,
   "metadata": {},
   "outputs": [],
   "source": []
  }
 ],
 "metadata": {
  "kernelspec": {
   "display_name": ".venv",
   "language": "python",
   "name": "python3"
  },
  "language_info": {
   "codemirror_mode": {
    "name": "ipython",
    "version": 3
   },
   "file_extension": ".py",
   "mimetype": "text/x-python",
   "name": "python",
   "nbconvert_exporter": "python",
   "pygments_lexer": "ipython3",
   "version": "3.12.7"
  }
 },
 "nbformat": 4,
 "nbformat_minor": 4
}
